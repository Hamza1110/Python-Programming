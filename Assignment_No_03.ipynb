{
 "cells": [
  {
   "cell_type": "code",
   "execution_count": 6,
   "metadata": {},
   "outputs": [
    {
     "name": "stdout",
     "output_type": "stream",
     "text": [
      "Enter first value: 5\n",
      "Enter second value: 8\n",
      "Enter 1 to do addition :\n",
      "Enter 2 to do subtraction :\n",
      "Enter 3 to do multiplication :\n",
      "Enter 4 to do division :\n",
      "Enter 5 to do power: \n",
      "Enter your choice: 3\n",
      "Answer : 40\n"
     ]
    }
   ],
   "source": [
    "num1 = int(input(\"Enter first value: \"))\n",
    "num2 = int(input(\"Enter second value: \"))\n",
    "answer = None\n",
    "\n",
    "print(\"Enter 1 to do addition :\")\n",
    "print(\"Enter 2 to do subtraction :\")\n",
    "print(\"Enter 3 to do multiplication :\")\n",
    "print(\"Enter 4 to do division :\")\n",
    "print(\"Enter 5 to do power: \")\n",
    "choice = int(input(\"Enter your choice: \"))\n",
    "\n",
    "if choice == 1:\n",
    "    answer = num1+num2\n",
    "elif choice == 2:\n",
    "    answer = num1-num2\n",
    "elif choice == 3:\n",
    "    answer = num1*num2\n",
    "elif choice == 4:\n",
    "    answer = num1/num2\n",
    "elif choice == 5:\n",
    "    answer = num1**num2\n",
    "    \n",
    "print(f\"Answer : {answer}\")"
   ]
  },
  {
   "cell_type": "code",
   "execution_count": 9,
   "metadata": {},
   "outputs": [
    {
     "name": "stdout",
     "output_type": "stream",
     "text": [
      "Numeric value found : 6\n"
     ]
    }
   ],
   "source": [
    "list = ['Hamza','Ali','3',6,'Ahmed']\n",
    "for value in list:\n",
    "    if type(value) == int or type(value) == float:\n",
    "        print(f\"Numeric value found : {value}\")\n",
    "        break;"
   ]
  },
  {
   "cell_type": "code",
   "execution_count": 12,
   "metadata": {},
   "outputs": [
    {
     "name": "stdout",
     "output_type": "stream",
     "text": [
      "The Key is added\n"
     ]
    }
   ],
   "source": [
    "dic = {};\n",
    "dic[1] = \"The Key is added\";\n",
    "print(dic[1]);"
   ]
  },
  {
   "cell_type": "code",
   "execution_count": 13,
   "metadata": {},
   "outputs": [
    {
     "name": "stdout",
     "output_type": "stream",
     "text": [
      "Sum = 65\n"
     ]
    }
   ],
   "source": [
    "result = 0;\n",
    "dic = {1: 7 ,\n",
    "       2: 'Ahmed', \n",
    "       3: 'Ali', \n",
    "       4: 48,\n",
    "       5: 10}\n",
    "\n",
    "for value in dic.values():\n",
    "    if type(value) == int or type(value) == float:\n",
    "        result = result + value        \n",
    "        \n",
    "print(f\"Sum = {result}\")"
   ]
  },
  {
   "cell_type": "code",
   "execution_count": 15,
   "metadata": {},
   "outputs": [
    {
     "name": "stdout",
     "output_type": "stream",
     "text": [
      "Duplicated Value in List: 2\n",
      "Duplicated Value in List: 1\n",
      "Duplicated Value in List: Hamza\n",
      "Duplicated Value in List: 1\n",
      "Duplicated Value in List: 2\n",
      "Duplicated Value in List: Hamza\n"
     ]
    }
   ],
   "source": [
    "the_list = ['Ali', 'ali', 2, 1,'Hamza', 8, 1, 2,'Hamza', 3, 4, 5, 6]\n",
    "for value in the_list:\n",
    "    if  the_list.count(value) > 1:\n",
    "        print(f\"Duplicated Value in List: {value}\")"
   ]
  },
  {
   "cell_type": "code",
   "execution_count": 16,
   "metadata": {},
   "outputs": [
    {
     "name": "stdout",
     "output_type": "stream",
     "text": [
      "3 Already exists\n"
     ]
    }
   ],
   "source": [
    "dic = { 1: \"key1\",\n",
    "            2: \"key2\",\n",
    "            3: \"key3\"}\n",
    "\n",
    "given_key = 3\n",
    "\n",
    "for key in dic.keys():\n",
    "    if key == given_key:\n",
    "        print(f\"{given_key} Already exists\")"
   ]
  },
  {
   "cell_type": "code",
   "execution_count": null,
   "metadata": {},
   "outputs": [],
   "source": []
  }
 ],
 "metadata": {
  "kernelspec": {
   "display_name": "Python 3",
   "language": "python",
   "name": "python3"
  },
  "language_info": {
   "codemirror_mode": {
    "name": "ipython",
    "version": 3
   },
   "file_extension": ".py",
   "mimetype": "text/x-python",
   "name": "python",
   "nbconvert_exporter": "python",
   "pygments_lexer": "ipython3",
   "version": "3.7.4"
  }
 },
 "nbformat": 4,
 "nbformat_minor": 2
}

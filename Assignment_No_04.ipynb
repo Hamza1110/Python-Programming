{
 "cells": [
  {
   "cell_type": "code",
   "execution_count": 1,
   "metadata": {},
   "outputs": [
    {
     "name": "stdout",
     "output_type": "stream",
     "text": [
      "{'first_name': 'Ali', 'last_name': 'Ahmed', 'age': 20, 'city': 'Karachi'}\n",
      "{'first_name': 'Ali', 'last_name': 'Ahmed', 'age': 20, 'city': 'Karachi', 'Qualification': 'BCS from UOK'}\n",
      "{'first_name': 'Ali', 'last_name': 'Ahmed', 'age': 20, 'city': 'Karachi'}\n"
     ]
    }
   ],
   "source": [
    "person = {\n",
    "    'first_name' : 'Ali',\n",
    "    'last_name' : 'Ahmed',\n",
    "    'age' : 20,\n",
    "    'city' : 'Karachi'\n",
    "}\n",
    "print(person)\n",
    "person['Qualification'] = 'BCS from UOK'\n",
    "print(person)\n",
    "del person['Qualification']\n",
    "print(person)"
   ]
  },
  {
   "cell_type": "code",
   "execution_count": 2,
   "metadata": {},
   "outputs": [
    {
     "name": "stdout",
     "output_type": "stream",
     "text": [
      "{'Karachi': {'country': 'Pakistan', 'population': '15 millions', 'fact': 'City of Lights'}, 'Lahore': {'country': 'Pakistan', 'population': '12 millions', 'fact': 'City of Gardens'}, 'Peshawar': {'country': 'Pakistan', 'population': '2 millions', 'fact': 'City of Flowers'}}\n"
     ]
    }
   ],
   "source": [
    "cities = {\n",
    "    'Karachi' : {'country' : 'Pakistan', 'population' : '15 millions', 'fact' : 'City of Lights'},\n",
    "    'Lahore' : {'country' : 'Pakistan', 'population' : '12 millions', 'fact' : 'City of Gardens'},\n",
    "    'Peshawar' : {'country' : 'Pakistan', 'population' : '2 millions', 'fact' : 'City of Flowers'}\n",
    "}\n",
    "print(cities)"
   ]
  },
  {
   "cell_type": "code",
   "execution_count": 7,
   "metadata": {},
   "outputs": [
    {
     "name": "stdout",
     "output_type": "stream",
     "text": [
      "Please Enter Your Age21\n",
      "Ticket is $15\n"
     ]
    }
   ],
   "source": [
    "for i in range(3):\n",
    "    age = int(input(\"Please Enter Your Age\"))\n",
    "    if age <=3:\n",
    "        print(\"Ticket is free\")\n",
    "        break\n",
    "    if age >3 and age <=12:\n",
    "        print(\"Ticket is $10\")\n",
    "        break\n",
    "    if age > 12:\n",
    "        print(\"Ticket is $15\")\n",
    "        break"
   ]
  },
  {
   "cell_type": "code",
   "execution_count": 9,
   "metadata": {},
   "outputs": [
    {
     "name": "stdout",
     "output_type": "stream",
     "text": [
      "One of my favorite book is Alice in Wonderland\n"
     ]
    }
   ],
   "source": [
    "def favorite_book(title):\n",
    "    print(\"One of my favorite book is\",title)\n",
    "favorite_book(\"Alice in Wonderland\")"
   ]
  },
  {
   "cell_type": "code",
   "execution_count": 13,
   "metadata": {},
   "outputs": [
    {
     "name": "stdout",
     "output_type": "stream",
     "text": [
      "================HINT================\n",
      "try a number between 20 to 30\n",
      "enter your guess: 24\n",
      "Your Guess is Wrong\n",
      "enter your guess: 30\n",
      "Your Guess is Wrong\n",
      "enter your guess: 25\n",
      "Congratulations!!!! Your Guess is Right\n"
     ]
    }
   ],
   "source": [
    "import random\n",
    "a=random.randint(1,30) #a is the hidden number\n",
    "print(\"================HINT================\")\n",
    "if a>= 1 and a < 10:\n",
    "    print(\"try a number between 1 to 10\")\n",
    "elif a >= 10 and a < 20:\n",
    "    print(\"try a number between 10 to 20\")\n",
    "elif a >= 20 and a < 30:\n",
    "    print(\"try a number between 20 to 30\")\n",
    "for i in range(0,3):\n",
    "    user = int(input(\"enter your guess: \"))\n",
    "    if user < 1 or user > 30:\n",
    "        print(\"choose a number between 1 to 30\")\n",
    "    else:\n",
    "        if user == a:\n",
    "            print(\"Congratulations!!!! Your Guess is Right\")\n",
    "            break\n",
    "        else:\n",
    "            print(\"Your Guess is Wrong\")"
   ]
  },
  {
   "cell_type": "code",
   "execution_count": null,
   "metadata": {},
   "outputs": [],
   "source": []
  }
 ],
 "metadata": {
  "kernelspec": {
   "display_name": "Python 3",
   "language": "python",
   "name": "python3"
  },
  "language_info": {
   "codemirror_mode": {
    "name": "ipython",
    "version": 3
   },
   "file_extension": ".py",
   "mimetype": "text/x-python",
   "name": "python",
   "nbconvert_exporter": "python",
   "pygments_lexer": "ipython3",
   "version": "3.7.4"
  }
 },
 "nbformat": 4,
 "nbformat_minor": 2
}

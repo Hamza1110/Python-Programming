{
 "cells": [
  {
   "cell_type": "code",
   "execution_count": 23,
   "metadata": {},
   "outputs": [
    {
     "name": "stdout",
     "output_type": "stream",
     "text": [
      "Enter marks scored in English: 50\n",
      "Enter marks scored in Urdu: 70\n",
      "Enter marks scored in Science: 40\n",
      "Enter marks scored in Computer: 50\n",
      "Enter marks scored in Maths: 60\n",
      "Grade: B\n"
     ]
    }
   ],
   "source": [
    "English = int(input(\"Enter marks scored in English: \"))\n",
    "Urdu = int(input(\"Enter marks scored in Urdu: \"))\n",
    "Sci = int(input(\"Enter marks scored in Science: \"))\n",
    "Computer = int(input(\"Enter marks scored in Computer: \"))\n",
    "Maths = int(input(\"Enter marks scored in Maths: \"))\n",
    "\n",
    "Total = (English+Urdu+Sci+Computer+Maths)\n",
    "avg=(Total/500)*100 \n",
    "if(avg>=90):\n",
    "    print(\"Grade: A\")\n",
    "elif(avg>=80 or avg<90):\n",
    "    print(\"Grade: B\")\n",
    "elif(avg>=70 or avg<80):\n",
    "    print(\"Grade: C\")\n",
    "elif(avg>=60 or avg<70):\n",
    "    print(\"Grade: D\")\n",
    "else:\n",
    "    print(\"Grade: F\")"
   ]
  },
  {
   "cell_type": "code",
   "execution_count": 3,
   "metadata": {},
   "outputs": [
    {
     "name": "stdout",
     "output_type": "stream",
     "text": [
      "Enter a number: 6\n",
      "This is an even number.\n"
     ]
    }
   ],
   "source": [
    "Number = int(input(\"Enter a number: \"))\n",
    "\n",
    "if (Number%2) > 0:\n",
    "    print(\"This is an odd number.\")\n",
    "else:\n",
    "    print(\"This is an even number.\")"
   ]
  },
  {
   "cell_type": "code",
   "execution_count": 5,
   "metadata": {},
   "outputs": [
    {
     "name": "stdout",
     "output_type": "stream",
     "text": [
      "The length of List is:  5\n"
     ]
    }
   ],
   "source": [
    "List = len([10, 20, 30, 40, 50]) \n",
    "print(\"The length of List is: \", List)"
   ]
  },
  {
   "cell_type": "code",
   "execution_count": 7,
   "metadata": {},
   "outputs": [
    {
     "name": "stdout",
     "output_type": "stream",
     "text": [
      "The Sum of List is:  150\n"
     ]
    }
   ],
   "source": [
    "List = sum([10, 20, 30, 40, 50])\n",
    "print(\"The Sum of List is: \", List)"
   ]
  },
  {
   "cell_type": "code",
   "execution_count": 8,
   "metadata": {},
   "outputs": [
    {
     "name": "stdout",
     "output_type": "stream",
     "text": [
      "The Largest Number of List is:  50\n"
     ]
    }
   ],
   "source": [
    "List = max([10, 20, 30, 40, 50])\n",
    "print(\"The Largest Number of List is: \", List)"
   ]
  },
  {
   "cell_type": "code",
   "execution_count": 27,
   "metadata": {},
   "outputs": [
    {
     "name": "stdout",
     "output_type": "stream",
     "text": [
      "[1, 1, 2, 3]\n"
     ]
    }
   ],
   "source": [
    "List = [1, 1, 2, 3, 5, 8, 13, 21, 34, 55, 89]\n",
    "num = 5\n",
    "New_List = []\n",
    "for i in List:\n",
    "  if i<num:\n",
    "    New_List.append(i)\n",
    "print (New_List)"
   ]
  },
  {
   "cell_type": "code",
   "execution_count": null,
   "metadata": {
    "scrolled": false
   },
   "outputs": [],
   "source": []
  },
  {
   "cell_type": "code",
   "execution_count": null,
   "metadata": {},
   "outputs": [],
   "source": []
  }
 ],
 "metadata": {
  "kernelspec": {
   "display_name": "Python 3",
   "language": "python",
   "name": "python3"
  },
  "language_info": {
   "codemirror_mode": {
    "name": "ipython",
    "version": 3
   },
   "file_extension": ".py",
   "mimetype": "text/x-python",
   "name": "python",
   "nbconvert_exporter": "python",
   "pygments_lexer": "ipython3",
   "version": "3.7.4"
  }
 },
 "nbformat": 4,
 "nbformat_minor": 2
}

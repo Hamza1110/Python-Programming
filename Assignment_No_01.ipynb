{
 "cells": [
  {
   "cell_type": "code",
   "execution_count": 1,
   "metadata": {},
   "outputs": [
    {
     "name": "stdout",
     "output_type": "stream",
     "text": [
      "Twinkle, twinkle, little star,\n",
      "\tHow I wonder what you are!\n",
      "\t\tUp above the world so high,\n",
      "\t\tLike a diamond in the sky.\n",
      "Twinkle, twinkle, little star,\n",
      "\tHow I wonder what you are\n"
     ]
    }
   ],
   "source": [
    "print(\"Twinkle, twinkle, little star,\")\n",
    "print(\"\\tHow I wonder what you are!\")\n",
    "print(\"\\t\\tUp above the world so high,\")\n",
    "print(\"\\t\\tLike a diamond in the sky.\")\n",
    "print(\"Twinkle, twinkle, little star,\")\n",
    "print(\"\\tHow I wonder what you are\")"
   ]
  },
  {
   "cell_type": "code",
   "execution_count": 2,
   "metadata": {},
   "outputs": [
    {
     "name": "stdout",
     "output_type": "stream",
     "text": [
      "3.7.4 (default, Aug  9 2019, 18:34:13) [MSC v.1915 64 bit (AMD64)]\n"
     ]
    }
   ],
   "source": [
    "import sys\n",
    "print(sys.version)"
   ]
  },
  {
   "cell_type": "code",
   "execution_count": 3,
   "metadata": {},
   "outputs": [
    {
     "name": "stdout",
     "output_type": "stream",
     "text": [
      "Current date and time\n",
      "03-11-2019  22:21:56\n"
     ]
    }
   ],
   "source": [
    "import datetime\n",
    "now= datetime.datetime.now()\n",
    "print(\"Current date and time\")\n",
    "print(now.strftime(\"%d-%m-%Y  %H:%M:%S\"))"
   ]
  },
  {
   "cell_type": "code",
   "execution_count": 4,
   "metadata": {},
   "outputs": [
    {
     "name": "stdout",
     "output_type": "stream",
     "text": [
      "Input the radius of circle: 6\n",
      "The radius of the Circle is: 113.09733552923255\n"
     ]
    }
   ],
   "source": [
    "from math import pi \n",
    "r = float(input(\"Input the radius of circle: \"))\n",
    "print(\"The radius of the Circle is: \"+str(pi*r**2))"
   ]
  },
  {
   "cell_type": "code",
   "execution_count": 5,
   "metadata": {},
   "outputs": [
    {
     "name": "stdout",
     "output_type": "stream",
     "text": [
      "Input your First Name : Hamza\n",
      "Input your Last Name : Ahmed\n",
      "Name in Reverse Order: Ahmed Hamza\n"
     ]
    }
   ],
   "source": [
    "fname = input(\"Input your First Name : \")\n",
    "lname = input(\"Input your Last Name : \")\n",
    "print(\"Name in Reverse Order:\"\" \"+ lname + \" \" + fname)"
   ]
  },
  {
   "cell_type": "code",
   "execution_count": 6,
   "metadata": {},
   "outputs": [
    {
     "name": "stdout",
     "output_type": "stream",
     "text": [
      "Input your First Name : 5\n",
      "Input your Last Name : 6\n",
      "11\n"
     ]
    }
   ],
   "source": [
    "num1 = int(input(\"Input your First Name : \"))\n",
    "num2 = int(input(\"Input your Last Name : \"))\n",
    "Add = num1+num2\n",
    "print(Add)"
   ]
  },
  {
   "cell_type": "code",
   "execution_count": null,
   "metadata": {},
   "outputs": [],
   "source": []
  }
 ],
 "metadata": {
  "kernelspec": {
   "display_name": "Python 3",
   "language": "python",
   "name": "python3"
  },
  "language_info": {
   "codemirror_mode": {
    "name": "ipython",
    "version": 3
   },
   "file_extension": ".py",
   "mimetype": "text/x-python",
   "name": "python",
   "nbconvert_exporter": "python",
   "pygments_lexer": "ipython3",
   "version": "3.7.4"
  }
 },
 "nbformat": 4,
 "nbformat_minor": 2
}
